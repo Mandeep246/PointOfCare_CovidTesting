{
  "nbformat": 4,
  "nbformat_minor": 0,
  "metadata": {
    "colab": {
      "name": "Binary_Classification.ipynb",
      "provenance": [],
      "collapsed_sections": []
    },
    "kernelspec": {
      "name": "python3",
      "display_name": "Python 3"
    },
    "language_info": {
      "name": "python"
    },
    "accelerator": "GPU",
    "gpuClass": "standard"
  },
  "cells": [
    {
      "cell_type": "markdown",
      "source": [
        "### Project Title : - Using Lung ultrasound images for building a reliable Point-of-care Covid-19 testing system"
      ],
      "metadata": {
        "id": "LbNVUhKRGKZ4"
      }
    },
    {
      "cell_type": "markdown",
      "source": [
        "#### Binary Classifier : For classifying lung ultrasound images into one of the two categories : Covid and Non Covid"
      ],
      "metadata": {
        "id": "Cz5UoMTrGMFG"
      }
    },
    {
      "cell_type": "code",
      "source": [
        "from google.colab import drive\n",
        "drive.mount(\"/content/drive/\")"
      ],
      "metadata": {
        "colab": {
          "base_uri": "https://localhost:8080/"
        },
        "id": "lN17JkgYGfW5",
        "outputId": "1cd5c44f-61a4-4693-e6b7-bff47712e79d"
      },
      "execution_count": null,
      "outputs": [
        {
          "output_type": "stream",
          "name": "stdout",
          "text": [
            "Mounted at /content/drive/\n"
          ]
        }
      ]
    },
    {
      "cell_type": "code",
      "source": [
        "cd drive/MyDrive/"
      ],
      "metadata": {
        "colab": {
          "base_uri": "https://localhost:8080/"
        },
        "id": "bAYXW3qyGjGS",
        "outputId": "d615c9fc-2645-4675-ad7a-cbad82de9d7b"
      },
      "execution_count": null,
      "outputs": [
        {
          "output_type": "stream",
          "name": "stdout",
          "text": [
            "/content/drive/MyDrive\n"
          ]
        }
      ]
    },
    {
      "cell_type": "markdown",
      "source": [
        "#### Placing images into folders as per their respective category : Covid and Non-Covid"
      ],
      "metadata": {
        "id": "oXJGwPQdYE22"
      }
    },
    {
      "cell_type": "code",
      "source": [
        "import shutil\n",
        "import os\n",
        "path = \"/content/drive/MyDrive/My_Dataset/normal\"\n",
        "d_path = \"/content/drive/MyDrive/My_Dataset/non_covid\"\n",
        "\n",
        "for file in os.listdir(path):\n",
        "        s = os.path.join(path,file)\n",
        "        new_path = shutil.move(s,d_path)\n",
        "\n",
        "path = \"/content/drive/MyDrive/My_Dataset/pneumonia\"\n",
        "for file in os.listdir(path):\n",
        "        s = os.path.join(path,file)\n",
        "        new_path = shutil.move(s,d_path)"
      ],
      "metadata": {
        "id": "FmNFrGkhT9ue"
      },
      "execution_count": null,
      "outputs": []
    },
    {
      "cell_type": "code",
      "source": [
        "import os\n",
        "files = os.listdir(\"/content/drive/MyDrive/My_Dataset/covid\")\n",
        "file_count = len(files)\n",
        "print(\"Class Covid : \",file_count)\n",
        "\n",
        "files = os.listdir(\"/content/drive/MyDrive/My_Dataset/non_covid\")\n",
        "file_count = len(files)\n",
        "print(\"Class Non-Covid : \",file_count)\n"
      ],
      "metadata": {
        "colab": {
          "base_uri": "https://localhost:8080/"
        },
        "id": "iuckyADXZaS7",
        "outputId": "ec1da57c-0c9c-4885-e6c4-dc962852fc8d"
      },
      "execution_count": null,
      "outputs": [
        {
          "output_type": "stream",
          "name": "stdout",
          "text": [
            "Class Covid :  3995\n",
            "Class Non-Covid :  11803\n"
          ]
        }
      ]
    },
    {
      "cell_type": "markdown",
      "source": [
        "#### Splitting the dataset into training, testing and validation"
      ],
      "metadata": {
        "id": "BmV_UyDxZthr"
      }
    },
    {
      "cell_type": "code",
      "source": [
        "pip install split-folders"
      ],
      "metadata": {
        "colab": {
          "base_uri": "https://localhost:8080/"
        },
        "id": "Wsoe6roRZxvl",
        "outputId": "81aa3b5f-88f2-41a2-9a15-4f475fd32499"
      },
      "execution_count": null,
      "outputs": [
        {
          "output_type": "stream",
          "name": "stdout",
          "text": [
            "Looking in indexes: https://pypi.org/simple, https://us-python.pkg.dev/colab-wheels/public/simple/\n",
            "Collecting split-folders\n",
            "  Downloading split_folders-0.5.1-py3-none-any.whl (8.4 kB)\n",
            "Installing collected packages: split-folders\n",
            "Successfully installed split-folders-0.5.1\n"
          ]
        }
      ]
    },
    {
      "cell_type": "code",
      "source": [
        "import splitfolders\n",
        "\n",
        "#Splitting the entire dataset into training, testing and validation folders\n",
        "\n",
        "splitfolders.ratio('/content/drive/MyDrive/Try',output ='binary_try', ratio = (.7,0.1,0.2))"
      ],
      "metadata": {
        "colab": {
          "base_uri": "https://localhost:8080/"
        },
        "id": "5Y1FUwLZZ0It",
        "outputId": "095d7fb0-9c07-4a6a-bc5c-77a1cf9e64ca"
      },
      "execution_count": null,
      "outputs": [
        {
          "output_type": "stream",
          "name": "stderr",
          "text": [
            "\n",
            "Copying files: 0 files [00:00, ? files/s]\u001b[A\n",
            "Copying files: 1 files [00:00,  2.85 files/s]\u001b[A\n",
            "Copying files: 2 files [00:00,  3.83 files/s]\u001b[A\n",
            "Copying files: 3 files [00:00,  3.23 files/s]\u001b[A\n",
            "Copying files: 4 files [00:01,  3.62 files/s]\u001b[A\n",
            "Copying files: 5 files [00:01,  3.61 files/s]\u001b[A\n",
            "Copying files: 6 files [00:01,  4.15 files/s]\u001b[A\n",
            "Copying files: 7 files [00:01,  4.43 files/s]\u001b[A\n",
            "Copying files: 8 files [00:02,  4.06 files/s]\u001b[A\n",
            "Copying files: 9 files [00:02,  3.87 files/s]\u001b[A\n",
            "Copying files: 10 files [00:02,  3.70 files/s]\u001b[A\n",
            "Copying files: 11 files [00:02,  4.05 files/s]\u001b[A\n",
            "Copying files: 12 files [00:03,  3.83 files/s]\u001b[A\n",
            "Copying files: 13 files [00:03,  3.71 files/s]\u001b[A\n",
            "Copying files: 14 files [00:03,  4.10 files/s]\u001b[A\n",
            "Copying files: 15 files [00:03,  4.40 files/s]\u001b[A\n",
            "Copying files: 16 files [00:04,  4.22 files/s]\u001b[A\n",
            "Copying files: 17 files [00:04,  3.58 files/s]\u001b[A\n",
            "Copying files: 18 files [00:04,  3.56 files/s]\u001b[A\n",
            "Copying files: 19 files [00:05,  3.45 files/s]\u001b[A\n",
            "Copying files: 20 files [00:05,  3.64 files/s]\u001b[A\n",
            "Copying files: 21 files [00:05,  3.20 files/s]\u001b[A\n",
            "Copying files: 22 files [00:20,  4.81s/ files]\u001b[A\n",
            "Copying files: 27 files [00:21,  1.57s/ files]\u001b[A\n",
            "Copying files: 38 files [00:21,  1.97 files/s]\u001b[A\n",
            "Copying files: 51 files [00:21,  4.17 files/s]\u001b[A\n",
            "Copying files: 60 files [00:21,  6.22 files/s]\u001b[A\n",
            "Copying files: 72 files [00:21,  9.94 files/s]\u001b[A\n",
            "Copying files: 85 files [00:21, 15.30 files/s]\u001b[A\n",
            "Copying files: 96 files [00:21, 20.95 files/s]\u001b[A\n",
            "Copying files: 107 files [00:22, 27.78 files/s]\u001b[A\n",
            "Copying files: 119 files [00:22, 36.89 files/s]\u001b[A\n",
            "Copying files: 130 files [00:22, 45.86 files/s]\u001b[A\n",
            "Copying files: 141 files [00:22, 54.96 files/s]\u001b[A\n",
            "Copying files: 154 files [00:22, 68.03 files/s]\u001b[A\n",
            "Copying files: 166 files [00:22, 76.38 files/s]\u001b[A\n",
            "Copying files: 177 files [00:22, 81.29 files/s]\u001b[A\n",
            "Copying files: 188 files [00:22, 86.34 files/s]\u001b[A\n",
            "Copying files: 201 files [00:22, 95.75 files/s]\u001b[A\n",
            "Copying files: 213 files [00:22, 97.49 files/s]\u001b[A\n",
            "Copying files: 224 files [00:23, 78.96 files/s]\u001b[A\n",
            "Copying files: 235 files [00:23, 84.67 files/s]\u001b[A\n",
            "Copying files: 249 files [00:23, 97.76 files/s]\u001b[A\n",
            "Copying files: 261 files [00:23, 101.93 files/s]\u001b[A\n",
            "Copying files: 272 files [00:23, 101.62 files/s]\u001b[A\n",
            "Copying files: 283 files [00:23, 102.10 files/s]\u001b[A\n",
            "Copying files: 296 files [00:23, 109.11 files/s]\u001b[A\n",
            "Copying files: 308 files [00:23, 107.67 files/s]\u001b[A\n",
            "Copying files: 319 files [00:24, 106.72 files/s]\u001b[A\n",
            "Copying files: 330 files [00:24, 105.64 files/s]\u001b[A\n",
            "Copying files: 342 files [00:24, 108.83 files/s]\u001b[A\n",
            "Copying files: 353 files [00:24, 104.30 files/s]\u001b[A\n",
            "Copying files: 364 files [00:24, 103.99 files/s]\u001b[A\n",
            "Copying files: 375 files [00:24, 103.43 files/s]\u001b[A\n",
            "Copying files: 387 files [00:24, 106.56 files/s]\u001b[A\n",
            "Copying files: 398 files [00:24, 103.35 files/s]\u001b[A\n",
            "Copying files: 409 files [00:24, 98.25 files/s] \u001b[A\n",
            "Copying files: 422 files [00:25, 77.45 files/s]\u001b[A\n",
            "Copying files: 435 files [00:25, 87.82 files/s]\u001b[A\n",
            "Copying files: 445 files [00:25, 90.05 files/s]\u001b[A\n",
            "Copying files: 455 files [00:25, 87.60 files/s]\u001b[A\n",
            "Copying files: 467 files [00:25, 92.97 files/s]\u001b[A\n",
            "Copying files: 478 files [00:25, 97.33 files/s]\u001b[A\n",
            "Copying files: 489 files [00:25, 98.07 files/s]\u001b[A\n",
            "Copying files: 500 files [00:25, 99.61 files/s]\u001b[A\n",
            "Copying files: 513 files [00:26, 102.47 files/s]\u001b[A\n",
            "Copying files: 526 files [00:26, 109.75 files/s]\u001b[A\n",
            "Copying files: 538 files [00:26, 109.41 files/s]\u001b[A\n",
            "Copying files: 550 files [00:26, 105.21 files/s]\u001b[A\n",
            "Copying files: 561 files [00:26, 103.85 files/s]\u001b[A\n",
            "Copying files: 574 files [00:26, 109.76 files/s]\u001b[A\n",
            "Copying files: 586 files [00:26, 104.09 files/s]\u001b[A\n",
            "Copying files: 597 files [00:26, 103.06 files/s]\u001b[A\n",
            "Copying files: 608 files [00:26, 101.58 files/s]\u001b[A\n",
            "Copying files: 621 files [00:27, 104.16 files/s]\u001b[A\n",
            "Copying files: 635 files [00:27, 112.17 files/s]\u001b[A\n",
            "Copying files: 647 files [00:27, 111.07 files/s]\u001b[A\n",
            "Copying files: 659 files [00:27, 109.56 files/s]\u001b[A\n",
            "Copying files: 670 files [00:27, 107.47 files/s]\u001b[A\n",
            "Copying files: 681 files [00:27, 73.72 files/s] \u001b[A\n",
            "Copying files: 692 files [00:27, 80.57 files/s]\u001b[A\n",
            "Copying files: 705 files [00:27, 91.48 files/s]\u001b[A\n",
            "Copying files: 716 files [00:28, 94.96 files/s]\u001b[A\n",
            "Copying files: 727 files [00:28, 97.36 files/s]\u001b[A\n",
            "Copying files: 738 files [00:28, 98.61 files/s]\u001b[A\n",
            "Copying files: 750 files [00:28, 102.82 files/s]\u001b[A\n",
            "Copying files: 764 files [00:28, 107.62 files/s]\u001b[A\n",
            "Copying files: 777 files [00:28, 113.42 files/s]\u001b[A\n",
            "Copying files: 789 files [00:28, 109.89 files/s]\u001b[A\n",
            "Copying files: 801 files [00:28, 110.17 files/s]\u001b[A\n",
            "Copying files: 813 files [00:28, 105.29 files/s]\u001b[A\n",
            "Copying files: 824 files [00:29, 105.53 files/s]\u001b[A\n",
            "Copying files: 835 files [00:29, 105.96 files/s]\u001b[A\n",
            "Copying files: 848 files [00:29, 112.39 files/s]\u001b[A\n",
            "Copying files: 860 files [00:29, 111.39 files/s]\u001b[A\n",
            "Copying files: 872 files [00:29, 109.87 files/s]\u001b[A\n",
            "Copying files: 884 files [00:29, 110.00 files/s]\u001b[A\n",
            "Copying files: 896 files [00:29, 107.44 files/s]\u001b[A\n",
            "Copying files: 907 files [00:29, 104.65 files/s]\u001b[A\n",
            "Copying files: 918 files [00:29, 106.03 files/s]\u001b[A\n",
            "Copying files: 929 files [00:30, 105.09 files/s]\u001b[A\n",
            "Copying files: 940 files [00:30, 104.55 files/s]\u001b[A\n",
            "Copying files: 951 files [00:30, 101.61 files/s]\u001b[A\n",
            "Copying files: 962 files [00:30, 103.41 files/s]\u001b[A\n",
            "Copying files: 975 files [00:30, 110.93 files/s]\u001b[A\n",
            "Copying files: 987 files [00:30, 109.00 files/s]\u001b[A\n",
            "Copying files: 998 files [00:30, 107.26 files/s]\u001b[A\n",
            "Copying files: 1009 files [00:30, 102.87 files/s]\u001b[A\n",
            "Copying files: 1020 files [00:30, 101.51 files/s]\u001b[A\n",
            "Copying files: 1032 files [00:31, 106.49 files/s]\u001b[A\n",
            "Copying files: 1043 files [00:31, 106.12 files/s]\u001b[A\n",
            "Copying files: 1054 files [00:31, 105.39 files/s]\u001b[A\n",
            "Copying files: 1065 files [00:31, 104.66 files/s]\u001b[A\n",
            "Copying files: 1076 files [00:31, 105.45 files/s]\u001b[A\n",
            "Copying files: 1089 files [00:31, 110.82 files/s]\u001b[A\n",
            "Copying files: 1101 files [00:31, 109.34 files/s]\u001b[A\n",
            "Copying files: 1112 files [00:31, 105.70 files/s]\u001b[A\n",
            "Copying files: 1123 files [00:31, 104.83 files/s]\u001b[A\n",
            "Copying files: 1134 files [00:31, 105.09 files/s]\u001b[A\n",
            "Copying files: 1146 files [00:32, 108.05 files/s]\u001b[A\n",
            "Copying files: 1157 files [00:32, 106.86 files/s]\u001b[A\n",
            "Copying files: 1168 files [00:32, 103.35 files/s]\u001b[A\n",
            "Copying files: 1179 files [00:32, 104.31 files/s]\u001b[A\n",
            "Copying files: 1190 files [00:32, 103.13 files/s]\u001b[A\n",
            "Copying files: 1203 files [00:32, 110.41 files/s]\u001b[A\n",
            "Copying files: 1215 files [00:32, 107.40 files/s]\u001b[A\n",
            "Copying files: 1226 files [00:32, 101.01 files/s]\u001b[A\n",
            "Copying files: 1237 files [00:32, 100.13 files/s]\u001b[A\n",
            "Copying files: 1248 files [00:33, 101.55 files/s]\u001b[A\n",
            "Copying files: 1260 files [00:33, 106.50 files/s]\u001b[A\n",
            "Copying files: 1271 files [00:33, 105.45 files/s]\u001b[A\n",
            "Copying files: 1282 files [00:33, 105.40 files/s]\u001b[A\n",
            "Copying files: 1293 files [00:33, 103.96 files/s]\u001b[A\n",
            "Copying files: 1304 files [00:33, 102.98 files/s]\u001b[A\n",
            "Copying files: 1316 files [00:33, 106.74 files/s]\u001b[A\n",
            "Copying files: 1327 files [00:33, 103.00 files/s]\u001b[A\n",
            "Copying files: 1338 files [00:33, 100.50 files/s]\u001b[A\n",
            "Copying files: 1349 files [00:34, 101.46 files/s]\u001b[A\n",
            "Copying files: 1360 files [00:34, 101.31 files/s]\u001b[A\n",
            "Copying files: 1372 files [00:34, 100.15 files/s]\u001b[A\n",
            "Copying files: 1385 files [00:34, 107.64 files/s]\u001b[A\n",
            "Copying files: 1396 files [00:34, 105.91 files/s]\u001b[A\n",
            "Copying files: 1407 files [00:34, 101.44 files/s]\u001b[A\n",
            "Copying files: 1418 files [00:34, 102.66 files/s]\u001b[A\n",
            "Copying files: 1429 files [00:35, 71.29 files/s] \u001b[A\n",
            "Copying files: 1442 files [00:35, 81.85 files/s]\u001b[A\n",
            "Copying files: 1452 files [00:35, 81.05 files/s]\u001b[A\n",
            "Copying files: 1461 files [00:35, 54.65 files/s]\u001b[A\n",
            "Copying files: 1474 files [00:35, 68.23 files/s]\u001b[A\n",
            "Copying files: 1486 files [00:35, 77.30 files/s]\u001b[A\n",
            "Copying files: 1496 files [00:35, 82.20 files/s]\u001b[A\n",
            "Copying files: 1509 files [00:35, 89.67 files/s]\u001b[A\n",
            "Copying files: 1522 files [00:36, 99.58 files/s]\u001b[A\n",
            "Copying files: 1533 files [00:36, 101.65 files/s]\u001b[A\n",
            "Copying files: 1544 files [00:36, 99.45 files/s] \u001b[A\n",
            "Copying files: 1557 files [00:36, 103.42 files/s]\u001b[A\n",
            "Copying files: 1570 files [00:36, 110.47 files/s]\u001b[A\n",
            "Copying files: 1582 files [00:36, 105.88 files/s]\u001b[A\n",
            "Copying files: 1593 files [00:36, 104.26 files/s]\u001b[A\n",
            "Copying files: 1604 files [00:36, 102.34 files/s]\u001b[A\n",
            "Copying files: 1615 files [00:37, 78.55 files/s] \u001b[A\n",
            "Copying files: 1626 files [00:37, 85.34 files/s]\u001b[A\n",
            "Copying files: 1639 files [00:37, 95.85 files/s]\u001b[A\n",
            "Copying files: 1650 files [00:37, 99.04 files/s]\u001b[A\n",
            "Copying files: 1661 files [00:37, 100.83 files/s]\u001b[A\n",
            "Copying files: 1675 files [00:37, 110.07 files/s]\u001b[A\n",
            "Copying files: 1687 files [00:37, 106.74 files/s]\u001b[A\n",
            "Copying files: 1698 files [00:37, 106.72 files/s]\u001b[A\n",
            "Copying files: 1711 files [00:37, 107.16 files/s]\u001b[A\n",
            "Copying files: 1724 files [00:38, 111.63 files/s]\u001b[A\n",
            "Copying files: 1736 files [00:38, 113.01 files/s]\u001b[A\n",
            "Copying files: 1748 files [00:38, 109.16 files/s]\u001b[A\n",
            "Copying files: 1762 files [00:38, 111.74 files/s]\u001b[A\n",
            "Copying files: 1776 files [00:38, 118.02 files/s]\u001b[A\n",
            "Copying files: 1788 files [00:38, 115.46 files/s]\u001b[A\n",
            "Copying files: 1800 files [00:38, 113.51 files/s]\u001b[A\n",
            "Copying files: 1812 files [00:38, 112.54 files/s]\u001b[A\n",
            "Copying files: 1824 files [00:38, 111.57 files/s]\u001b[A\n",
            "Copying files: 1836 files [00:39, 110.22 files/s]\u001b[A\n",
            "Copying files: 1848 files [00:39, 110.11 files/s]\u001b[A\n",
            "Copying files: 1860 files [00:39, 109.69 files/s]\u001b[A\n",
            "Copying files: 1873 files [00:39, 112.19 files/s]\u001b[A\n",
            "Copying files: 1886 files [00:39, 116.75 files/s]\u001b[A\n",
            "Copying files: 1898 files [00:39, 114.40 files/s]\u001b[A\n",
            "Copying files: 1910 files [00:39, 110.66 files/s]\u001b[A\n",
            "Copying files: 1922 files [00:39, 110.48 files/s]\u001b[A\n",
            "Copying files: 1936 files [00:39, 110.56 files/s]\u001b[A\n",
            "Copying files: 1949 files [00:40, 114.63 files/s]\u001b[A\n",
            "Copying files: 1961 files [00:40, 113.15 files/s]\u001b[A\n",
            "Copying files: 1973 files [00:40, 109.27 files/s]\u001b[A\n",
            "Copying files: 1984 files [00:40, 108.81 files/s]\u001b[A\n",
            "Copying files: 1997 files [00:40, 114.39 files/s]\u001b[A\n",
            "Copying files: 2009 files [00:43, 14.14 files/s] \u001b[A\n",
            "Copying files: 2018 files [00:45,  9.24 files/s]\u001b[A\n",
            "Copying files: 2021 files [00:57,  9.24 files/s]\u001b[A\n",
            "Copying files: 2022 files [01:00,  1.69 files/s]\u001b[A\n",
            "Copying files: 2030 files [01:00,  2.31 files/s]\u001b[A\n",
            "Copying files: 2039 files [01:00,  3.28 files/s]\u001b[A\n",
            "Copying files: 2051 files [01:00,  5.11 files/s]\u001b[A\n",
            "Copying files: 2061 files [01:00,  7.18 files/s]\u001b[A\n",
            "Copying files: 2070 files [01:00,  9.68 files/s]\u001b[A\n",
            "Copying files: 2079 files [01:00, 12.97 files/s]\u001b[A\n",
            "Copying files: 2088 files [01:01, 15.67 files/s]\u001b[A\n",
            "Copying files: 2102 files [01:01, 24.03 files/s]\u001b[A\n",
            "Copying files: 2113 files [01:01, 31.44 files/s]\u001b[A\n",
            "Copying files: 2125 files [01:01, 41.08 files/s]\u001b[A\n",
            "Copying files: 2137 files [01:01, 51.43 files/s]\u001b[A\n",
            "Copying files: 2150 files [01:01, 63.67 files/s]\u001b[A\n",
            "Copying files: 2162 files [01:01, 71.42 files/s]\u001b[A\n",
            "Copying files: 2173 files [01:01, 79.22 files/s]\u001b[A\n",
            "Copying files: 2185 files [01:01, 86.04 files/s]\u001b[A\n",
            "Copying files: 2199 files [01:02, 97.92 files/s]\u001b[A\n",
            "Copying files: 2211 files [01:02, 99.91 files/s]\u001b[A\n",
            "Copying files: 2223 files [01:02, 99.68 files/s]\u001b[A\n",
            "Copying files: 2234 files [01:02, 101.00 files/s]\u001b[A\n",
            "Copying files: 2247 files [01:02, 105.62 files/s]\u001b[A\n",
            "Copying files: 2261 files [01:02, 114.23 files/s]\u001b[A\n",
            "Copying files: 2273 files [01:02, 109.53 files/s]\u001b[A\n",
            "Copying files: 2285 files [01:02, 105.94 files/s]\u001b[A\n",
            "Copying files: 2296 files [01:03, 105.04 files/s]\u001b[A\n",
            "Copying files: 2308 files [01:03, 106.63 files/s]\u001b[A\n",
            "Copying files: 2321 files [01:03, 113.08 files/s]\u001b[A\n",
            "Copying files: 2333 files [01:03, 111.51 files/s]\u001b[A\n",
            "Copying files: 2345 files [01:03, 109.12 files/s]\u001b[A\n",
            "Copying files: 2356 files [01:03, 109.35 files/s]\u001b[A\n",
            "Copying files: 2370 files [01:03, 110.04 files/s]\u001b[A\n",
            "Copying files: 2383 files [01:03, 113.98 files/s]\u001b[A\n",
            "Copying files: 2395 files [01:03, 112.55 files/s]\u001b[A\n",
            "Copying files: 2407 files [01:03, 111.58 files/s]\u001b[A\n",
            "Copying files: 2419 files [01:04, 109.46 files/s]\u001b[A\n",
            "Copying files: 2432 files [01:04, 110.09 files/s]\u001b[A\n",
            "Copying files: 2445 files [01:04, 114.73 files/s]\u001b[A\n",
            "Copying files: 2457 files [01:04, 106.83 files/s]\u001b[A\n",
            "Copying files: 2468 files [01:04, 106.41 files/s]\u001b[A\n",
            "Copying files: 2479 files [01:04, 107.21 files/s]\u001b[A\n",
            "Copying files: 2493 files [01:04, 114.89 files/s]\u001b[A\n",
            "Copying files: 2505 files [01:04, 113.82 files/s]\u001b[A\n",
            "Copying files: 2517 files [01:04, 110.29 files/s]\u001b[A\n",
            "Copying files: 2529 files [01:05, 110.77 files/s]\u001b[A\n",
            "Copying files: 2541 files [01:05, 111.81 files/s]\u001b[A\n",
            "Copying files: 2553 files [01:05, 113.63 files/s]\u001b[A\n",
            "Copying files: 2565 files [01:05, 111.70 files/s]\u001b[A\n",
            "Copying files: 2577 files [01:05, 109.54 files/s]\u001b[A\n",
            "Copying files: 2588 files [01:05, 106.29 files/s]\u001b[A\n",
            "Copying files: 2600 files [01:05, 108.26 files/s]\u001b[A\n",
            "Copying files: 2613 files [01:05, 112.03 files/s]\u001b[A\n",
            "Copying files: 2625 files [01:05, 109.26 files/s]\u001b[A\n",
            "Copying files: 2636 files [01:06, 107.91 files/s]\u001b[A\n",
            "Copying files: 2647 files [01:06, 106.63 files/s]\u001b[A\n",
            "Copying files: 2660 files [01:06, 106.18 files/s]\u001b[A\n",
            "Copying files: 2673 files [01:06, 111.25 files/s]\u001b[A\n",
            "Copying files: 2685 files [01:06, 108.51 files/s]\u001b[A\n",
            "Copying files: 2696 files [01:06, 106.76 files/s]\u001b[A\n",
            "Copying files: 2707 files [01:06, 105.71 files/s]\u001b[A\n",
            "Copying files: 2718 files [01:06, 105.01 files/s]\u001b[A\n",
            "Copying files: 2730 files [01:06, 107.34 files/s]\u001b[A\n",
            "Copying files: 2742 files [01:07, 110.41 files/s]\u001b[A\n",
            "Copying files: 2754 files [01:07, 108.57 files/s]\u001b[A\n",
            "Copying files: 2765 files [01:07, 107.58 files/s]\u001b[A\n",
            "Copying files: 2776 files [01:07, 107.44 files/s]\u001b[A\n",
            "Copying files: 2787 files [01:07, 103.84 files/s]\u001b[A\n",
            "Copying files: 2799 files [01:07, 106.97 files/s]\u001b[A\n",
            "Copying files: 2810 files [01:07, 105.62 files/s]\u001b[A\n",
            "Copying files: 2821 files [01:07, 104.98 files/s]\u001b[A\n",
            "Copying files: 2832 files [01:07, 104.69 files/s]\u001b[A\n",
            "Copying files: 2844 files [01:08, 103.07 files/s]\u001b[A\n",
            "Copying files: 2857 files [01:08, 108.75 files/s]\u001b[A\n",
            "Copying files: 2868 files [01:08, 107.01 files/s]\u001b[A\n",
            "Copying files: 2879 files [01:08, 106.52 files/s]\u001b[A\n",
            "Copying files: 2890 files [01:08, 105.40 files/s]\u001b[A\n",
            "Copying files: 2901 files [01:08, 101.88 files/s]\u001b[A\n",
            "Copying files: 2914 files [01:08, 104.17 files/s]\u001b[A\n",
            "Copying files: 2927 files [01:08, 109.74 files/s]\u001b[A\n",
            "Copying files: 2939 files [01:08, 107.71 files/s]\u001b[A\n",
            "Copying files: 2950 files [01:09, 107.51 files/s]\u001b[A\n",
            "Copying files: 2961 files [01:09, 106.42 files/s]\u001b[A\n",
            "Copying files: 2972 files [01:09, 106.33 files/s]\u001b[A\n",
            "Copying files: 2985 files [01:09, 106.90 files/s]\u001b[A\n",
            "Copying files: 2999 files [01:09, 109.86 files/s]\u001b[A\n",
            "Copying files: 3012 files [01:09, 115.20 files/s]\u001b[A\n",
            "Copying files: 3024 files [01:09, 113.39 files/s]\u001b[A\n",
            "Copying files: 3036 files [01:09, 109.99 files/s]\u001b[A\n",
            "Copying files: 3048 files [01:09, 108.45 files/s]\u001b[A\n",
            "Copying files: 3059 files [01:10, 107.43 files/s]\u001b[A\n",
            "Copying files: 3070 files [01:10, 103.33 files/s]\u001b[A\n",
            "Copying files: 3083 files [01:10, 109.79 files/s]\u001b[A\n",
            "Copying files: 3095 files [01:10, 107.55 files/s]\u001b[A\n",
            "Copying files: 3106 files [01:10, 106.38 files/s]\u001b[A\n",
            "Copying files: 3117 files [01:10, 100.11 files/s]\u001b[A\n",
            "Copying files: 3128 files [01:10, 101.65 files/s]\u001b[A\n",
            "Copying files: 3140 files [01:10, 102.28 files/s]\u001b[A\n",
            "Copying files: 3153 files [01:10, 108.87 files/s]\u001b[A\n",
            "Copying files: 3164 files [01:11, 101.46 files/s]\u001b[A\n",
            "Copying files: 3175 files [01:11, 70.04 files/s] \u001b[A\n",
            "Copying files: 3185 files [01:11, 75.86 files/s]\u001b[A\n",
            "Copying files: 3196 files [01:11, 83.01 files/s]\u001b[A\n",
            "Copying files: 3209 files [01:11, 93.82 files/s]\u001b[A\n",
            "Copying files: 3220 files [01:11, 96.38 files/s]\u001b[A\n",
            "Copying files: 3231 files [01:11, 95.72 files/s]\u001b[A\n",
            "Copying files: 3242 files [01:11, 96.22 files/s]\u001b[A\n",
            "Copying files: 3252 files [01:12, 96.97 files/s]\u001b[A\n",
            "Copying files: 3264 files [01:12, 102.18 files/s]\u001b[A\n",
            "Copying files: 3275 files [01:12, 102.24 files/s]\u001b[A\n",
            "Copying files: 3286 files [01:12, 102.11 files/s]\u001b[A\n",
            "Copying files: 3298 files [01:12, 104.09 files/s]\u001b[A\n",
            "Copying files: 3309 files [01:12, 101.27 files/s]\u001b[A\n",
            "Copying files: 3323 files [01:12, 105.65 files/s]\u001b[A\n",
            "Copying files: 3335 files [01:12, 108.10 files/s]\u001b[A\n",
            "Copying files: 3346 files [01:12, 107.23 files/s]\u001b[A\n",
            "Copying files: 3357 files [01:13, 105.12 files/s]\u001b[A\n",
            "Copying files: 3368 files [01:13, 103.72 files/s]\u001b[A\n",
            "Copying files: 3379 files [01:13, 102.46 files/s]\u001b[A\n",
            "Copying files: 3391 files [01:13, 102.66 files/s]\u001b[A\n",
            "Copying files: 3404 files [01:13, 108.42 files/s]\u001b[A\n",
            "Copying files: 3415 files [01:13, 103.99 files/s]\u001b[A\n",
            "Copying files: 3426 files [01:13, 103.27 files/s]\u001b[A\n",
            "Copying files: 3439 files [01:13, 105.61 files/s]\u001b[A\n",
            "Copying files: 3452 files [01:13, 111.61 files/s]\u001b[A\n",
            "Copying files: 3464 files [01:14, 109.52 files/s]\u001b[A\n",
            "Copying files: 3475 files [01:14, 107.97 files/s]\u001b[A\n",
            "Copying files: 3489 files [01:14, 115.10 files/s]\u001b[A\n",
            "Copying files: 3501 files [01:14, 113.64 files/s]\u001b[A\n",
            "Copying files: 3513 files [01:14, 113.00 files/s]\u001b[A\n",
            "Copying files: 3525 files [01:14, 113.03 files/s]\u001b[A\n",
            "Copying files: 3538 files [01:14, 115.99 files/s]\u001b[A\n",
            "Copying files: 3550 files [01:14, 112.85 files/s]\u001b[A\n",
            "Copying files: 3562 files [01:14, 112.22 files/s]\u001b[A\n",
            "Copying files: 3575 files [01:15, 111.08 files/s]\u001b[A\n",
            "Copying files: 3589 files [01:15, 117.50 files/s]\u001b[A\n",
            "Copying files: 3601 files [01:15, 113.81 files/s]\u001b[A\n",
            "Copying files: 3613 files [01:15, 112.74 files/s]\u001b[A\n",
            "Copying files: 3625 files [01:15, 111.09 files/s]\u001b[A\n",
            "Copying files: 3639 files [01:15, 118.81 files/s]\u001b[A\n",
            "Copying files: 3651 files [01:15, 114.39 files/s]\u001b[A\n",
            "Copying files: 3663 files [01:15, 111.63 files/s]\u001b[A\n",
            "Copying files: 3675 files [01:15, 112.07 files/s]\u001b[A\n",
            "Copying files: 3689 files [01:16, 118.95 files/s]\u001b[A\n",
            "Copying files: 3701 files [01:16, 112.45 files/s]\u001b[A\n",
            "Copying files: 3713 files [01:16, 111.61 files/s]\u001b[A\n",
            "Copying files: 3725 files [01:16, 110.00 files/s]\u001b[A\n",
            "Copying files: 3739 files [01:16, 116.48 files/s]\u001b[A\n",
            "Copying files: 3751 files [01:16, 114.31 files/s]\u001b[A\n",
            "Copying files: 3763 files [01:16, 113.17 files/s]\u001b[A\n",
            "Copying files: 3775 files [01:16, 110.83 files/s]\u001b[A\n",
            "Copying files: 3787 files [01:16, 112.48 files/s]\u001b[A\n",
            "Copying files: 3799 files [01:17, 110.52 files/s]\u001b[A\n",
            "Copying files: 3811 files [01:17, 110.52 files/s]\u001b[A\n",
            "Copying files: 3823 files [01:17, 111.09 files/s]\u001b[A\n",
            "Copying files: 3836 files [01:17, 115.34 files/s]\u001b[A\n",
            "Copying files: 3848 files [01:17, 114.62 files/s]\u001b[A\n",
            "Copying files: 3860 files [01:17, 110.69 files/s]\u001b[A\n",
            "Copying files: 3872 files [01:17, 110.43 files/s]\u001b[A\n",
            "Copying files: 3884 files [01:17, 107.30 files/s]\u001b[A\n",
            "Copying files: 3898 files [01:17, 109.34 files/s]\u001b[A\n",
            "Copying files: 3911 files [01:18, 114.13 files/s]\u001b[A\n",
            "Copying files: 3923 files [01:18, 113.28 files/s]\u001b[A\n",
            "Copying files: 3935 files [01:18, 113.67 files/s]\u001b[A\n",
            "Copying files: 3947 files [01:18, 112.53 files/s]\u001b[A\n",
            "Copying files: 3960 files [01:18, 112.00 files/s]\u001b[A\n",
            "Copying files: 3973 files [01:18, 116.39 files/s]\u001b[A\n",
            "Copying files: 3985 files [01:18, 114.94 files/s]\u001b[A\n",
            "Copying files: 4000 files [01:18, 50.75 files/s] \n"
          ]
        }
      ]
    },
    {
      "cell_type": "markdown",
      "source": [
        "#### Dataset verification"
      ],
      "metadata": {
        "id": "qwZmMfseaDeX"
      }
    },
    {
      "cell_type": "code",
      "source": [
        "import os\n",
        "print(\"Training dataset\")\n",
        "files = os.listdir(\"/content/drive/MyDrive/binary_try/train/covid\")\n",
        "file_count = len(files)\n",
        "print(\"Class Covid : \",file_count)\n",
        "\n",
        "files = os.listdir(\"/content/drive/MyDrive/binary_try/train/non_covid\")\n",
        "file_count = len(files)\n",
        "print(\"Class Non Covid: \",file_count)\n",
        "\n",
        "\n",
        "\n",
        "print(\"---------------------\")\n",
        "print(\"Testing dataset\")\n",
        "files = os.listdir(\"/content/drive/MyDrive/binary_try/test/covid\")\n",
        "file_count = len(files)\n",
        "print(\"Class Covid : \",file_count)\n",
        "\n",
        "files = os.listdir(\"/content/drive/MyDrive/binary_try/test/non_covid\")\n",
        "file_count = len(files)\n",
        "print(\"Class Non Covid: \",file_count)\n",
        "\n",
        "\n",
        "print(\"---------------------\")\n",
        "print(\"Validation dataset\")\n",
        "files = os.listdir(\"/content/drive/MyDrive/binary_try/val/covid\")\n",
        "file_count = len(files)\n",
        "print(\"Class Covid : \",file_count)\n",
        "\n",
        "files = os.listdir(\"/content/drive/MyDrive/binary_try/val/non_covid\")\n",
        "file_count = len(files)\n",
        "print(\"Class Non Covid: \",file_count)\n",
        "\n"
      ],
      "metadata": {
        "colab": {
          "base_uri": "https://localhost:8080/"
        },
        "id": "6So01dG7aOHO",
        "outputId": "ba8801e2-4173-4771-f91e-6fa936b33c20"
      },
      "execution_count": null,
      "outputs": [
        {
          "output_type": "stream",
          "name": "stdout",
          "text": [
            "Training dataset\n",
            "Class Covid :  1400\n",
            "Class Non Covid:  1400\n",
            "---------------------\n",
            "Testing dataset\n",
            "Class Covid :  400\n",
            "Class Non Covid:  400\n",
            "---------------------\n",
            "Validation dataset\n",
            "Class Covid :  200\n",
            "Class Non Covid:  200\n"
          ]
        }
      ]
    },
    {
      "cell_type": "markdown",
      "source": [
        "#### Dataset Loading and Pre-processing"
      ],
      "metadata": {
        "id": "TVL7RKe7cQQv"
      }
    },
    {
      "cell_type": "code",
      "source": [
        "#Importing the necessary libraries\n",
        "\n",
        "import pathlib\n",
        "from pathlib import Path\n",
        "import tensorflow as tf\n",
        "from tensorflow.keras.preprocessing.image import ImageDataGenerator\n",
        "\n",
        "#Creating path for dataset folders\n",
        "p = Path().cwd()\n",
        "q = p/'binary_split'\n",
        "\n",
        "#Images would be fed into the model as a batch of this size\n",
        "batch_size = 512\n",
        "\n",
        "#Rescaling the pixel values\n",
        "train_datagen = ImageDataGenerator(rescale=1./255)\n",
        "\n",
        "test_datagen = ImageDataGenerator(rescale=1./255)\n",
        "\n",
        "val_datagen = ImageDataGenerator(rescale=1./255)\n",
        "\n",
        "\n",
        "#Creating data generators for all the three datasets\n",
        "\n",
        "train_generator = train_datagen.flow_from_directory(q/'train',target_size=(197,198), batch_size= batch_size,class_mode ='categorical',shuffle = True)\n",
        "\n",
        "test_generator = test_datagen.flow_from_directory(q/'test',target_size= (197,198), batch_size= batch_size,class_mode ='categorical')\n",
        "\n",
        "val_generator = val_datagen.flow_from_directory(q/'val',target_size=(197,198), batch_size= batch_size,class_mode ='categorical')\n",
        "\n",
        "# confirm the iterator works\n",
        "\n",
        "batchX, batchy = train_generator.next()\n",
        "print('Batch shape=%s, min=%.3f, max=%.3f' % (batchX.shape, batchX.min(), batchX.max()))\n"
      ],
      "metadata": {
        "id": "IRI59LGecVDA",
        "colab": {
          "base_uri": "https://localhost:8080/"
        },
        "outputId": "a459dcea-0a64-419a-ef8a-020747683c91"
      },
      "execution_count": null,
      "outputs": [
        {
          "output_type": "stream",
          "name": "stdout",
          "text": [
            "Found 2800 images belonging to 2 classes.\n",
            "Found 800 images belonging to 2 classes.\n",
            "Found 400 images belonging to 2 classes.\n",
            "Batch shape=(512, 197, 198, 3), min=0.000, max=1.000\n"
          ]
        }
      ]
    },
    {
      "cell_type": "markdown",
      "source": [
        "#### Creating and training a baseline model - VGG16 with data augmentation"
      ],
      "metadata": {
        "id": "f7kdPZ3AcLgn"
      }
    },
    {
      "cell_type": "code",
      "source": [
        "pretrained= tf.keras.applications.VGG16(include_top=False,\n",
        "                   input_shape=(197,198,3), weights='imagenet')\n",
        "\n",
        "pretrained.trainable=False\n"
      ],
      "metadata": {
        "id": "Mzkynv8F4Rho",
        "colab": {
          "base_uri": "https://localhost:8080/"
        },
        "outputId": "3a86997a-2d7a-4c50-c193-85c36e2b891b"
      },
      "execution_count": null,
      "outputs": [
        {
          "output_type": "stream",
          "name": "stdout",
          "text": [
            "Downloading data from https://storage.googleapis.com/tensorflow/keras-applications/vgg16/vgg16_weights_tf_dim_ordering_tf_kernels_notop.h5\n",
            "58892288/58889256 [==============================] - 0s 0us/step\n",
            "58900480/58889256 [==============================] - 0s 0us/step\n"
          ]
        }
      ]
    },
    {
      "cell_type": "code",
      "source": [
        "inputs = tf.keras.Input(shape=(197,198,3))\n",
        "x = pretrained(inputs)\n",
        "x = tf.keras.layers.Flatten()(x)\n",
        "x = tf.keras.layers.Dense(1024)(x)\n",
        "x = tf.keras.layers.Dense(512)(x)\n",
        "outputs = tf.keras.layers.Dense(2, activation=\"softmax\")(x)\n",
        "\n",
        "multi_vgg16 = tf.keras.Model(inputs, outputs)\n",
        "\n",
        "multi_vgg16.summary()\n"
      ],
      "metadata": {
        "id": "V1cV7Z2n4a9J",
        "colab": {
          "base_uri": "https://localhost:8080/"
        },
        "outputId": "3aeb06e9-a40e-4f30-bd52-f51f8dd216c3"
      },
      "execution_count": null,
      "outputs": [
        {
          "output_type": "stream",
          "name": "stdout",
          "text": [
            "Model: \"model\"\n",
            "_________________________________________________________________\n",
            " Layer (type)                Output Shape              Param #   \n",
            "=================================================================\n",
            " input_2 (InputLayer)        [(None, 197, 198, 3)]     0         \n",
            "                                                                 \n",
            " vgg16 (Functional)          (None, 6, 6, 512)         14714688  \n",
            "                                                                 \n",
            " flatten (Flatten)           (None, 18432)             0         \n",
            "                                                                 \n",
            " dense (Dense)               (None, 1024)              18875392  \n",
            "                                                                 \n",
            " dense_1 (Dense)             (None, 512)               524800    \n",
            "                                                                 \n",
            " dense_2 (Dense)             (None, 2)                 1026      \n",
            "                                                                 \n",
            "=================================================================\n",
            "Total params: 34,115,906\n",
            "Trainable params: 19,401,218\n",
            "Non-trainable params: 14,714,688\n",
            "_________________________________________________________________\n"
          ]
        }
      ]
    },
    {
      "cell_type": "code",
      "source": [
        "multi_vgg16.compile(loss=\"categorical_crossentropy\",optimizer= tf.keras.optimizers.Adam(lr=1e-5) , metrics=[\"accuracy\"])"
      ],
      "metadata": {
        "id": "2_RBDUKU4dZh",
        "colab": {
          "base_uri": "https://localhost:8080/"
        },
        "outputId": "fe4ea00f-0b5c-468e-910e-1ff1566e11e6"
      },
      "execution_count": null,
      "outputs": [
        {
          "output_type": "stream",
          "name": "stderr",
          "text": [
            "/usr/local/lib/python3.7/dist-packages/keras/optimizer_v2/adam.py:105: UserWarning: The `lr` argument is deprecated, use `learning_rate` instead.\n",
            "  super(Adam, self).__init__(name, **kwargs)\n"
          ]
        }
      ]
    },
    {
      "cell_type": "code",
      "source": [
        "baseline_model = multi_vgg16.fit( train_generator,steps_per_epoch = len(train_generator),epochs= 3 , validation_data= val_generator,\n",
        "             validation_steps = len(val_generator))"
      ],
      "metadata": {
        "id": "IowZgx274oR4",
        "colab": {
          "base_uri": "https://localhost:8080/"
        },
        "outputId": "28e59d5c-3187-4d53-c26d-f524ee1ce4c2"
      },
      "execution_count": null,
      "outputs": [
        {
          "output_type": "stream",
          "name": "stdout",
          "text": [
            "Epoch 1/3\n",
            "6/6 [==============================] - 398s 60s/step - loss: 0.5526 - accuracy: 0.7304 - val_loss: 0.4111 - val_accuracy: 0.9275\n",
            "Epoch 2/3\n",
            "6/6 [==============================] - 28s 4s/step - loss: 0.3497 - accuracy: 0.9100 - val_loss: 0.2766 - val_accuracy: 0.9550\n",
            "Epoch 3/3\n",
            "6/6 [==============================] - 28s 5s/step - loss: 0.2415 - accuracy: 0.9675 - val_loss: 0.2042 - val_accuracy: 0.9575\n"
          ]
        }
      ]
    },
    {
      "cell_type": "markdown",
      "source": [
        "#### Testing the baseline model on testing data"
      ],
      "metadata": {
        "id": "gfJUdgcL4tMd"
      }
    },
    {
      "cell_type": "code",
      "source": [
        "final_loss, final_acc = multi_vgg16.evaluate(test_generator)\n",
        "print(\"Test accuracy  : \",final_acc)"
      ],
      "metadata": {
        "id": "IbgrP-ed4ql6",
        "colab": {
          "base_uri": "https://localhost:8080/"
        },
        "outputId": "da38306e-5497-46ca-da6a-16ba92fc7367"
      },
      "execution_count": null,
      "outputs": [
        {
          "output_type": "stream",
          "name": "stdout",
          "text": [
            "7/7 [==============================] - 503s 83s/step - loss: 0.6772 - accuracy: 0.7596\n",
            "Test accuracy  :  0.7595697641372681\n"
          ]
        }
      ]
    },
    {
      "cell_type": "code",
      "source": [
        "predict = multi_vgg16.predict(\n",
        "    test_generator, steps=None, callbacks=None, max_queue_size=10, workers=1,\n",
        "    use_multiprocessing=False, verbose=0\n",
        ")"
      ],
      "metadata": {
        "id": "ryCqVO-_gF_J"
      },
      "execution_count": null,
      "outputs": []
    },
    {
      "cell_type": "code",
      "source": [
        "import numpy as np\n",
        "vgg_pred_classes_ft = np.argmax(predict, axis=1)"
      ],
      "metadata": {
        "id": "FoxWC-eAghfE"
      },
      "execution_count": null,
      "outputs": []
    },
    {
      "cell_type": "code",
      "source": [
        "vgg_pred_classes_ft"
      ],
      "metadata": {
        "colab": {
          "base_uri": "https://localhost:8080/"
        },
        "id": "MzuMAreHgrNV",
        "outputId": "23ea450f-bee8-4d2b-d893-bfe9fa6add54"
      },
      "execution_count": null,
      "outputs": [
        {
          "output_type": "execute_result",
          "data": {
            "text/plain": [
              "array([1, 1, 1, 1, 0, 0, 0, 1, 1, 1, 0, 0, 0, 0, 1, 0, 1, 0, 1, 0, 1, 0,\n",
              "       0, 0, 1, 0, 1, 1, 0, 0, 1, 0, 1, 1, 1, 0, 0, 0, 1, 0, 0, 0, 1, 0,\n",
              "       0, 1, 1, 1, 1, 0, 0, 0, 0, 0, 1, 0, 1, 1, 1, 1, 0, 0, 0, 0, 1, 1,\n",
              "       1, 0, 1, 0, 1, 1, 1, 0, 1, 0, 1, 0, 0, 1, 0, 0, 1, 0, 1, 1, 1, 0,\n",
              "       0, 1, 1, 1, 0, 1, 0, 1, 1, 1, 0, 1, 0, 1, 0, 1, 1, 1, 1, 0, 0, 0,\n",
              "       0, 1, 0, 1, 1, 1, 0, 1, 0, 1, 1, 1, 0, 1, 0, 0, 1, 0, 0, 1, 0, 0,\n",
              "       1, 1, 1, 1, 0, 0, 1, 1, 0, 1, 0, 1, 0, 0, 1, 1, 1, 0, 1, 1, 0, 0,\n",
              "       0, 0, 1, 1, 0, 1, 1, 0, 1, 0, 1, 0, 0, 0, 1, 1, 0, 0, 1, 1, 0, 0,\n",
              "       0, 1, 0, 1, 1, 0, 0, 1, 0, 0, 1, 0, 0, 0, 0, 1, 0, 1, 0, 0, 0, 0,\n",
              "       0, 1, 0, 1, 0, 1, 0, 0, 0, 0, 1, 1, 0, 1, 0, 1, 1, 0, 0, 1, 1, 0,\n",
              "       1, 1, 0, 0, 0, 1, 1, 0, 1, 1, 1, 0, 0, 0, 0, 1, 0, 0, 0, 0, 1, 1,\n",
              "       0, 0, 0, 1, 0, 1, 1, 1, 1, 0, 0, 1, 1, 0, 0, 1, 0, 0, 1, 1, 1, 0,\n",
              "       0, 1, 1, 0, 0, 0, 0, 1, 0, 1, 0, 1, 1, 1, 0, 1, 1, 1, 0, 1, 0, 0,\n",
              "       0, 1, 1, 0, 0, 1, 0, 0, 0, 1, 0, 0, 1, 0, 0, 0, 1, 0, 1, 1, 1, 1,\n",
              "       1, 1, 0, 1, 1, 0, 1, 0, 1, 0, 1, 1, 0, 1, 1, 0, 1, 1, 0, 0, 1, 0,\n",
              "       0, 0, 0, 0, 1, 1, 0, 0, 0, 1, 0, 1, 0, 1, 1, 0, 1, 0, 1, 1, 0, 1,\n",
              "       1, 0, 0, 1, 0, 0, 1, 1, 1, 0, 1, 1, 0, 0, 0, 1, 0, 0, 1, 0, 0, 0,\n",
              "       0, 1, 1, 1, 1, 1, 1, 1, 0, 0, 0, 0, 0, 1, 1, 0, 0, 0, 0, 0, 0, 1,\n",
              "       0, 0, 1, 1, 0, 0, 0, 0, 0, 1, 1, 0, 1, 0, 0, 0, 0, 1, 1, 0, 1, 0,\n",
              "       0, 0, 0, 1, 0, 0, 0, 0, 1, 1, 0, 1, 0, 0, 0, 0, 0, 1, 0, 0, 1, 0,\n",
              "       0, 1, 0, 0, 0, 1, 0, 0, 0, 1, 1, 1, 1, 1, 1, 0, 1, 0, 0, 0, 1, 0,\n",
              "       0, 0, 0, 1, 1, 1, 1, 1, 0, 1, 1, 1, 0, 0, 1, 0, 0, 1, 1, 0, 1, 1,\n",
              "       0, 0, 0, 0, 0, 0, 0, 1, 1, 0, 1, 1, 0, 1, 1, 0, 1, 0, 1, 1, 1, 1,\n",
              "       0, 0, 1, 0, 0, 0, 1, 0, 0, 0, 1, 1, 1, 1, 1, 1, 1, 0, 1, 0, 0, 0,\n",
              "       0, 0, 1, 1, 1, 0, 0, 0, 0, 0, 1, 0, 0, 0, 1, 0, 0, 0, 1, 0, 1, 0,\n",
              "       1, 1, 0, 0, 0, 1, 0, 1, 0, 0, 1, 0, 0, 0, 0, 1, 1, 0, 1, 1, 1, 0,\n",
              "       1, 1, 1, 0, 0, 1, 1, 1, 1, 1, 1, 1, 0, 0, 0, 1, 1, 1, 1, 1, 0, 1,\n",
              "       0, 0, 1, 0, 1, 0, 1, 1, 0, 0, 0, 0, 0, 1, 1, 1, 0, 0, 0, 0, 0, 1,\n",
              "       1, 1, 0, 1, 0, 1, 1, 0, 0, 0, 0, 0, 0, 0, 1, 1, 1, 0, 0, 0, 0, 0,\n",
              "       1, 0, 0, 0, 1, 1, 1, 1, 1, 1, 1, 0, 1, 1, 1, 0, 1, 1, 1, 1, 0, 1,\n",
              "       0, 0, 1, 1, 1, 0, 0, 1, 1, 1, 0, 1, 1, 0, 1, 1, 1, 0, 0, 1, 0, 0,\n",
              "       1, 1, 1, 1, 1, 0, 0, 0, 0, 0, 0, 0, 1, 1, 0, 0, 1, 0, 0, 1, 0, 1,\n",
              "       0, 0, 0, 1, 1, 0, 0, 1, 0, 0, 0, 1, 0, 0, 0, 1, 0, 1, 0, 1, 0, 0,\n",
              "       0, 0, 1, 1, 0, 1, 0, 1, 1, 0, 0, 0, 0, 0, 1, 1, 1, 1, 0, 0, 0, 1,\n",
              "       1, 1, 1, 1, 1, 1, 0, 1, 0, 0, 1, 1, 1, 1, 1, 1, 1, 1, 0, 0, 1, 1,\n",
              "       0, 0, 0, 1, 0, 0, 0, 1, 0, 0, 0, 1, 1, 1, 0, 0, 0, 1, 0, 0, 0, 0,\n",
              "       0, 0, 1, 0, 0, 1, 0, 1])"
            ]
          },
          "metadata": {},
          "execution_count": 11
        }
      ]
    },
    {
      "cell_type": "code",
      "source": [
        "from sklearn.metrics import average_precision_score\n",
        "from sklearn.metrics import accuracy_score\n",
        "from sklearn.metrics import recall_score\n",
        "from sklearn.metrics import f1_score\n",
        "import numpy as np\n",
        "\n",
        "predict = multi_vgg16.predict(\n",
        "    test_generator, steps=None, callbacks=None, max_queue_size=10, workers=1,\n",
        "    use_multiprocessing=False, verbose=0\n",
        ")\n",
        "vgg_pred_classes_ft = np.argmax(predict, axis=1)\n",
        "\n",
        "true_classes = test_generator.classes\n",
        "\n",
        "\n",
        "print(\"Precision score is \", average_precision_score(true_classes, vgg_pred_classes_ft))\n",
        "print(\"Accuracy score is \", accuracy_score(true_classes, vgg_pred_classes_ft))\n",
        "print(\"Recall is \",recall_score(true_classes, vgg_pred_classes_ft))\n",
        "print(\"F1 score is \",f1_score(true_classes, vgg_pred_classes_ft))"
      ],
      "metadata": {
        "colab": {
          "base_uri": "https://localhost:8080/"
        },
        "id": "c9bbMUToOFV8",
        "outputId": "acd64199-4052-418b-ef77-b16aaffd87a7"
      },
      "execution_count": null,
      "outputs": [
        {
          "output_type": "stream",
          "name": "stdout",
          "text": [
            "Precision score is  0.48760224274406333\n",
            "Accuracy score is  0.47375\n",
            "Recall is  0.4475\n",
            "F1 score is  0.4595635430038511\n"
          ]
        }
      ]
    },
    {
      "cell_type": "code",
      "source": [
        "import seaborn as sns\n",
        "from sklearn.metrics import confusion_matrix\n",
        "import matplotlib.pyplot as plt\n",
        "\n",
        "\n",
        "# Get the names of the ten classes\n",
        "class_names = test_generator.class_indices.keys()\n",
        "\n",
        "true_classes = test_generator.classes\n",
        "\n",
        "class_names = test_generator.class_indices.keys()\n",
        "\n",
        "def plot_heatmap(y_true, y_pred, class_names, ax, title):\n",
        "    cm = confusion_matrix(y_true, y_pred)\n",
        "    sns.heatmap(\n",
        "        cm, \n",
        "        annot=True, \n",
        "        square=True, \n",
        "        xticklabels=class_names, \n",
        "        yticklabels=class_names,\n",
        "        fmt='d', \n",
        "        cmap=plt.cm.Blues,\n",
        "        cbar=False,\n",
        "        ax=ax\n",
        "    )\n",
        "    ax.set_title(title, fontsize=16)\n",
        "    ax.set_xticklabels(ax.get_xticklabels(), rotation=45, ha=\"right\")\n",
        "    ax.set_ylabel('True Label', fontsize=12)\n",
        "    ax.set_xlabel('Predicted Label', fontsize=12)\n",
        "\n",
        "fig, (ax1) = plt.subplots(1, 1, figsize=(20, 10))\n",
        "\n",
        "plot_heatmap(true_classes, vgg_pred_classes_ft, class_names, ax1, title=\"Baseline model\")    \n",
        "\n",
        "fig.suptitle(\"Confusion Matrix\", fontsize=24)\n",
        "fig.tight_layout()\n",
        "fig.subplots_adjust(top=1.25)\n",
        "plt.show()"
      ],
      "metadata": {
        "colab": {
          "base_uri": "https://localhost:8080/",
          "height": 938
        },
        "id": "eGbH_DmrLmjJ",
        "outputId": "ef9ad325-92bf-4f34-9f6f-ceb815662a3e"
      },
      "execution_count": null,
      "outputs": [
        {
          "output_type": "display_data",
          "data": {
            "text/plain": [
              "<Figure size 1440x720 with 1 Axes>"
            ],
            "image/png": "[encoded data removed]"
          },
          "metadata": {
            "needs_background": "light"
          }
        }
      ]
    },
    {
      "cell_type": "markdown",
      "source": [
        "#### Baseline model's performance on training and validation data"
      ],
      "metadata": {
        "id": "egLuwI5MAGYl"
      }
    },
    {
      "cell_type": "code",
      "source": [
        "import numpy as np\n",
        "import matplotlib.pyplot as plt\n",
        "\n",
        "#Comparison of training and validation loss per epoch\n",
        "\n",
        "history_dict = baseline_model.history # the dictionary that has the information on loss and accuracy per epoch\n",
        "\n",
        "loss_values = history_dict['loss']   # training loss\n",
        "val_loss_values = history_dict['val_loss'] # validation loss\n",
        "\n",
        "epochs = range(1, len(loss_values)+1)  #creates list of integers to match the number of epochs of training\n",
        "\n",
        "# code to plot the results\n",
        "plt.plot(epochs, loss_values, 'b', label=\"Training Loss\")\n",
        "plt.plot(epochs, val_loss_values, 'r', label=\"Validation Loss\")\n",
        "plt.title(\"Training and Validation Loss\")\n",
        "plt.xlabel(\"Epochs\")\n",
        "plt.xticks(epochs)\n",
        "plt.ylabel(\"Loss\")\n",
        "plt.legend()\n",
        "plt.show()\n",
        "\n",
        "\n",
        "#Comparison of training and validation accuracy per epoch\n",
        "\n",
        "# As above, but this time we want to visualize the training and validation accuracy\n",
        "\n",
        "acc_values = history_dict['accuracy']\n",
        "val_acc_values = history_dict['val_accuracy']\n",
        "\n",
        "plt.plot(epochs, acc_values, 'b', label=\"Training Accuracy\")\n",
        "plt.plot(epochs, val_acc_values, 'r', label=\"Validation Accuracy\")\n",
        "plt.title(\"Training and Validation Accuracy\")\n",
        "plt.xlabel(\"Epochs\")\n",
        "plt.xticks(epochs)\n",
        "plt.ylabel(\"Accuracy\")\n",
        "plt.legend()\n",
        "plt.show()"
      ],
      "metadata": {
        "id": "VI7pcs8V48Ol",
        "colab": {
          "base_uri": "https://localhost:8080/",
          "height": 573
        },
        "outputId": "d8b447d6-7ebb-4d76-b129-569872749820"
      },
      "execution_count": null,
      "outputs": [
        {
          "output_type": "display_data",
          "data": {
            "text/plain": [
              "<Figure size 432x288 with 1 Axes>"
            ],
            "image/png": "[encoded data removed]"
          },
          "metadata": {
            "needs_background": "light"
          }
        },
        {
          "output_type": "display_data",
          "data": {
            "text/plain": [
              "<Figure size 432x288 with 1 Axes>"
            ],
            "image/png": "[encoded data removed]"
          },
          "metadata": {
            "needs_background": "light"
          }
        }
      ]
    },
    {
      "cell_type": "markdown",
      "source": [
        "### TRYING EFFECIENT NET\n"
      ],
      "metadata": {
        "id": "YHZr1a_10no3"
      }
    },
    {
      "cell_type": "code",
      "source": [
        "import tensorflow as tf\n",
        "\n",
        "pretrained = tf.keras.applications.EfficientNetB0(include_top=False,\n",
        "                   input_shape=(224,224,3), weights='imagenet')\n",
        "\n",
        "pretrained.trainable=False"
      ],
      "metadata": {
        "colab": {
          "base_uri": "https://localhost:8080/"
        },
        "id": "fALewz9O0sYf",
        "outputId": "e7831261-60a7-4772-eda3-672bdd21c60a"
      },
      "execution_count": null,
      "outputs": [
        {
          "output_type": "stream",
          "name": "stdout",
          "text": [
            "Downloading data from https://storage.googleapis.com/keras-applications/efficientnetb0_notop.h5\n",
            "16711680/16705208 [==============================] - 0s 0us/step\n",
            "16719872/16705208 [==============================] - 0s 0us/step\n"
          ]
        }
      ]
    },
    {
      "cell_type": "code",
      "source": [
        "inputs = tf.keras.Input(shape=(224,224,3))\n",
        "x = pretrained(inputs)\n",
        "x = tf.keras.layers.Flatten()(x)\n",
        "x = tf.keras.layers.Dense(1024)(x)\n",
        "x = tf.keras.layers.Dense(512)(x)\n",
        "outputs = tf.keras.layers.Dense(1, activation=\"sigmoid\")(x)\n",
        "\n",
        "eff = tf.keras.Model(inputs, outputs)\n",
        "\n",
        "eff.summary()\n",
        "\n",
        "\n"
      ],
      "metadata": {
        "colab": {
          "base_uri": "https://localhost:8080/"
        },
        "id": "nW0knzEF1JFh",
        "outputId": "96ba8dbe-6887-4473-f87a-106edc07ebdc"
      },
      "execution_count": null,
      "outputs": [
        {
          "output_type": "stream",
          "name": "stdout",
          "text": [
            "Model: \"model\"\n",
            "_________________________________________________________________\n",
            " Layer (type)                Output Shape              Param #   \n",
            "=================================================================\n",
            " input_2 (InputLayer)        [(None, 224, 224, 3)]     0         \n",
            "                                                                 \n",
            " efficientnetb0 (Functional)  (None, 7, 7, 1280)       4049571   \n",
            "                                                                 \n",
            " flatten (Flatten)           (None, 62720)             0         \n",
            "                                                                 \n",
            " dense (Dense)               (None, 1024)              64226304  \n",
            "                                                                 \n",
            " dense_1 (Dense)             (None, 512)               524800    \n",
            "                                                                 \n",
            " dense_2 (Dense)             (None, 1)                 513       \n",
            "                                                                 \n",
            "=================================================================\n",
            "Total params: 68,801,188\n",
            "Trainable params: 64,751,617\n",
            "Non-trainable params: 4,049,571\n",
            "_________________________________________________________________\n"
          ]
        }
      ]
    },
    {
      "cell_type": "code",
      "source": [
        "eff.compile(loss=\"binary_crossentropy\",optimizer=\"rmsprop\", metrics=[\"accuracy\"])\n"
      ],
      "metadata": {
        "id": "3N_97Pfj1XkV"
      },
      "execution_count": null,
      "outputs": []
    },
    {
      "cell_type": "code",
      "source": [
        "baseline_model = eff.fit( train_generator,steps_per_epoch = len(train_generator),epochs= 3 , validation_data= val_generator,\n",
        "             validation_steps = len(val_generator))"
      ],
      "metadata": {
        "colab": {
          "base_uri": "https://localhost:8080/",
          "height": 1000
        },
        "id": "viudh5OY1ZH5",
        "outputId": "351e60ed-1ecd-4018-8bdb-5fae0e1ac131"
      },
      "execution_count": null,
      "outputs": [
        {
          "output_type": "stream",
          "name": "stdout",
          "text": [
            "Epoch 1/3\n"
          ]
        },
        {
          "output_type": "error",
          "ename": "InvalidArgumentError",
          "evalue": "ignored",
          "traceback": [
            "\u001b[0;31m---------------------------------------------------------------------------\u001b[0m",
            "\u001b[0;31mInvalidArgumentError\u001b[0m                      Traceback (most recent call last)",
            "\u001b[0;32m<ipython-input-7-213fda10d691>\u001b[0m in \u001b[0;36m<module>\u001b[0;34m()\u001b[0m\n\u001b[1;32m      1\u001b[0m baseline_model = eff.fit( train_generator,steps_per_epoch = len(train_generator),epochs= 3 , validation_data= val_generator,\n\u001b[0;32m----> 2\u001b[0;31m              validation_steps = len(val_generator))\n\u001b[0m",
            "\u001b[0;32m/usr/local/lib/python3.7/dist-packages/keras/utils/traceback_utils.py\u001b[0m in \u001b[0;36merror_handler\u001b[0;34m(*args, **kwargs)\u001b[0m\n\u001b[1;32m     65\u001b[0m     \u001b[0;32mexcept\u001b[0m \u001b[0mException\u001b[0m \u001b[0;32mas\u001b[0m \u001b[0me\u001b[0m\u001b[0;34m:\u001b[0m  \u001b[0;31m# pylint: disable=broad-except\u001b[0m\u001b[0;34m\u001b[0m\u001b[0;34m\u001b[0m\u001b[0m\n\u001b[1;32m     66\u001b[0m       \u001b[0mfiltered_tb\u001b[0m \u001b[0;34m=\u001b[0m \u001b[0m_process_traceback_frames\u001b[0m\u001b[0;34m(\u001b[0m\u001b[0me\u001b[0m\u001b[0;34m.\u001b[0m\u001b[0m__traceback__\u001b[0m\u001b[0;34m)\u001b[0m\u001b[0;34m\u001b[0m\u001b[0;34m\u001b[0m\u001b[0m\n\u001b[0;32m---> 67\u001b[0;31m       \u001b[0;32mraise\u001b[0m \u001b[0me\u001b[0m\u001b[0;34m.\u001b[0m\u001b[0mwith_traceback\u001b[0m\u001b[0;34m(\u001b[0m\u001b[0mfiltered_tb\u001b[0m\u001b[0;34m)\u001b[0m \u001b[0;32mfrom\u001b[0m \u001b[0;32mNone\u001b[0m\u001b[0;34m\u001b[0m\u001b[0;34m\u001b[0m\u001b[0m\n\u001b[0m\u001b[1;32m     68\u001b[0m     \u001b[0;32mfinally\u001b[0m\u001b[0;34m:\u001b[0m\u001b[0;34m\u001b[0m\u001b[0;34m\u001b[0m\u001b[0m\n\u001b[1;32m     69\u001b[0m       \u001b[0;32mdel\u001b[0m \u001b[0mfiltered_tb\u001b[0m\u001b[0;34m\u001b[0m\u001b[0;34m\u001b[0m\u001b[0m\n",
            "\u001b[0;32m/usr/local/lib/python3.7/dist-packages/tensorflow/python/eager/execute.py\u001b[0m in \u001b[0;36mquick_execute\u001b[0;34m(op_name, num_outputs, inputs, attrs, ctx, name)\u001b[0m\n\u001b[1;32m     53\u001b[0m     \u001b[0mctx\u001b[0m\u001b[0;34m.\u001b[0m\u001b[0mensure_initialized\u001b[0m\u001b[0;34m(\u001b[0m\u001b[0;34m)\u001b[0m\u001b[0;34m\u001b[0m\u001b[0;34m\u001b[0m\u001b[0m\n\u001b[1;32m     54\u001b[0m     tensors = pywrap_tfe.TFE_Py_Execute(ctx._handle, device_name, op_name,\n\u001b[0;32m---> 55\u001b[0;31m                                         inputs, attrs, num_outputs)\n\u001b[0m\u001b[1;32m     56\u001b[0m   \u001b[0;32mexcept\u001b[0m \u001b[0mcore\u001b[0m\u001b[0;34m.\u001b[0m\u001b[0m_NotOkStatusException\u001b[0m \u001b[0;32mas\u001b[0m \u001b[0me\u001b[0m\u001b[0;34m:\u001b[0m\u001b[0;34m\u001b[0m\u001b[0;34m\u001b[0m\u001b[0m\n\u001b[1;32m     57\u001b[0m     \u001b[0;32mif\u001b[0m \u001b[0mname\u001b[0m \u001b[0;32mis\u001b[0m \u001b[0;32mnot\u001b[0m \u001b[0;32mNone\u001b[0m\u001b[0;34m:\u001b[0m\u001b[0;34m\u001b[0m\u001b[0;34m\u001b[0m\u001b[0m\n",
            "\u001b[0;31mInvalidArgumentError\u001b[0m: Graph execution error:\n\nDetected at node 'model/flatten/Reshape' defined at (most recent call last):\n    File \"/usr/lib/python3.7/runpy.py\", line 193, in _run_module_as_main\n      \"__main__\", mod_spec)\n    File \"/usr/lib/python3.7/runpy.py\", line 85, in _run_code\n      exec(code, run_globals)\n    File \"/usr/local/lib/python3.7/dist-packages/ipykernel_launcher.py\", line 16, in <module>\n      app.launch_new_instance()\n    File \"/usr/local/lib/python3.7/dist-packages/traitlets/config/application.py\", line 846, in launch_instance\n      app.start()\n    File \"/usr/local/lib/python3.7/dist-packages/ipykernel/kernelapp.py\", line 499, in start\n      self.io_loop.start()\n    File \"/usr/local/lib/python3.7/dist-packages/tornado/platform/asyncio.py\", line 132, in start\n      self.asyncio_loop.run_forever()\n    File \"/usr/lib/python3.7/asyncio/base_events.py\", line 541, in run_forever\n      self._run_once()\n    File \"/usr/lib/python3.7/asyncio/base_events.py\", line 1786, in _run_once\n      handle._run()\n    File \"/usr/lib/python3.7/asyncio/events.py\", line 88, in _run\n      self._context.run(self._callback, *self._args)\n    File \"/usr/local/lib/python3.7/dist-packages/tornado/platform/asyncio.py\", line 122, in _handle_events\n      handler_func(fileobj, events)\n    File \"/usr/local/lib/python3.7/dist-packages/tornado/stack_context.py\", line 300, in null_wrapper\n      return fn(*args, **kwargs)\n    File \"/usr/local/lib/python3.7/dist-packages/zmq/eventloop/zmqstream.py\", line 577, in _handle_events\n      self._handle_recv()\n    File \"/usr/local/lib/python3.7/dist-packages/zmq/eventloop/zmqstream.py\", line 606, in _handle_recv\n      self._run_callback(callback, msg)\n    File \"/usr/local/lib/python3.7/dist-packages/zmq/eventloop/zmqstream.py\", line 556, in _run_callback\n      callback(*args, **kwargs)\n    File \"/usr/local/lib/python3.7/dist-packages/tornado/stack_context.py\", line 300, in null_wrapper\n      return fn(*args, **kwargs)\n    File \"/usr/local/lib/python3.7/dist-packages/ipykernel/kernelbase.py\", line 283, in dispatcher\n      return self.dispatch_shell(stream, msg)\n    File \"/usr/local/lib/python3.7/dist-packages/ipykernel/kernelbase.py\", line 233, in dispatch_shell\n      handler(stream, idents, msg)\n    File \"/usr/local/lib/python3.7/dist-packages/ipykernel/kernelbase.py\", line 399, in execute_request\n      user_expressions, allow_stdin)\n    File \"/usr/local/lib/python3.7/dist-packages/ipykernel/ipkernel.py\", line 208, in do_execute\n      res = shell.run_cell(code, store_history=store_history, silent=silent)\n    File \"/usr/local/lib/python3.7/dist-packages/ipykernel/zmqshell.py\", line 537, in run_cell\n      return super(ZMQInteractiveShell, self).run_cell(*args, **kwargs)\n    File \"/usr/local/lib/python3.7/dist-packages/IPython/core/interactiveshell.py\", line 2718, in run_cell\n      interactivity=interactivity, compiler=compiler, result=result)\n    File \"/usr/local/lib/python3.7/dist-packages/IPython/core/interactiveshell.py\", line 2822, in run_ast_nodes\n      if self.run_code(code, result):\n    File \"/usr/local/lib/python3.7/dist-packages/IPython/core/interactiveshell.py\", line 2882, in run_code\n      exec(code_obj, self.user_global_ns, self.user_ns)\n    File \"<ipython-input-7-213fda10d691>\", line 2, in <module>\n      validation_steps = len(val_generator))\n    File \"/usr/local/lib/python3.7/dist-packages/keras/utils/traceback_utils.py\", line 64, in error_handler\n      return fn(*args, **kwargs)\n    File \"/usr/local/lib/python3.7/dist-packages/keras/engine/training.py\", line 1384, in fit\n      tmp_logs = self.train_function(iterator)\n    File \"/usr/local/lib/python3.7/dist-packages/keras/engine/training.py\", line 1021, in train_function\n      return step_function(self, iterator)\n    File \"/usr/local/lib/python3.7/dist-packages/keras/engine/training.py\", line 1010, in step_function\n      outputs = model.distribute_strategy.run(run_step, args=(data,))\n    File \"/usr/local/lib/python3.7/dist-packages/keras/engine/training.py\", line 1000, in run_step\n      outputs = model.train_step(data)\n    File \"/usr/local/lib/python3.7/dist-packages/keras/engine/training.py\", line 859, in train_step\n      y_pred = self(x, training=True)\n    File \"/usr/local/lib/python3.7/dist-packages/keras/utils/traceback_utils.py\", line 64, in error_handler\n      return fn(*args, **kwargs)\n    File \"/usr/local/lib/python3.7/dist-packages/keras/engine/base_layer.py\", line 1096, in __call__\n      outputs = call_fn(inputs, *args, **kwargs)\n    File \"/usr/local/lib/python3.7/dist-packages/keras/utils/traceback_utils.py\", line 92, in error_handler\n      return fn(*args, **kwargs)\n    File \"/usr/local/lib/python3.7/dist-packages/keras/engine/functional.py\", line 452, in call\n      inputs, training=training, mask=mask)\n    File \"/usr/local/lib/python3.7/dist-packages/keras/engine/functional.py\", line 589, in _run_internal_graph\n      outputs = node.layer(*args, **kwargs)\n    File \"/usr/local/lib/python3.7/dist-packages/keras/utils/traceback_utils.py\", line 64, in error_handler\n      return fn(*args, **kwargs)\n    File \"/usr/local/lib/python3.7/dist-packages/keras/engine/base_layer.py\", line 1096, in __call__\n      outputs = call_fn(inputs, *args, **kwargs)\n    File \"/usr/local/lib/python3.7/dist-packages/keras/utils/traceback_utils.py\", line 92, in error_handler\n      return fn(*args, **kwargs)\n    File \"/usr/local/lib/python3.7/dist-packages/keras/layers/core/flatten.py\", line 96, in call\n      return tf.reshape(inputs, flattened_shape)\nNode: 'model/flatten/Reshape'\nInput to reshape is a tensor with 23592960 values, but the requested shape requires a multiple of 62720\n\t [[{{node model/flatten/Reshape}}]] [Op:__inference_train_function_15093]"
          ]
        }
      ]
    },
    {
      "cell_type": "code",
      "source": [
        "from sklearn.metrics import average_precision_score\n",
        "from sklearn.metrics import accuracy_score\n",
        "from sklearn.metrics import recall_score\n",
        "from sklearn.metrics import f1_score\n",
        "import numpy as np\n",
        "\n",
        "vgg_preds_ft = eff.predict(test_generator)\n",
        "vgg_pred_classes_ft = np.argmax(vgg_preds_ft, axis=1)\n",
        "\n",
        "true_classes = test_generator.classes\n",
        "\n",
        "print(\"Accuracy score is \", accuracy_score(true_classes, vgg_pred_classes_ft))\n",
        "print(\"Precision score is \", average_precision_score(true_classes, vgg_pred_classes_ft))\n",
        "print(\"Recall is \",recall_score(true_classes, vgg_pred_classes_ft))\n",
        "print(\"F1 score is \",f1_score(true_classes, vgg_pred_classes_ft))"
      ],
      "metadata": {
        "colab": {
          "base_uri": "https://localhost:8080/"
        },
        "id": "9sjPY4Sz_8z9",
        "outputId": "4c7f7eab-0593-40fa-f9cb-5824afa9eb35"
      },
      "execution_count": null,
      "outputs": [
        {
          "output_type": "stream",
          "name": "stdout",
          "text": [
            "Accuracy score is  0.2530844669408415\n",
            "Precision score is  0.7469155330591585\n",
            "Recall is  0.0\n",
            "F1 score is  0.0\n"
          ]
        }
      ]
    },
    {
      "cell_type": "code",
      "source": [
        "vgg_pred_classes_ft"
      ],
      "metadata": {
        "colab": {
          "base_uri": "https://localhost:8080/"
        },
        "id": "nNQNYJgxA8v0",
        "outputId": "c2ec1cef-f3d9-4e7c-bb7d-c3271796f7e9"
      },
      "execution_count": null,
      "outputs": [
        {
          "output_type": "execute_result",
          "data": {
            "text/plain": [
              "array([0, 0, 0, ..., 0, 0, 0])"
            ]
          },
          "metadata": {},
          "execution_count": 24
        }
      ]
    },
    {
      "cell_type": "code",
      "source": [
        "import seaborn as sns\n",
        "from sklearn.metrics import confusion_matrix\n",
        "import matplotlib.pyplot as plt\n",
        "\n",
        "\n",
        "# Get the names of the ten classes\n",
        "class_names = test_generator.class_indices.keys()\n",
        "\n",
        "true_classes = test_generator.classes\n",
        "\n",
        "class_names = test_generator.class_indices.keys()\n",
        "\n",
        "def plot_heatmap(y_true, y_pred, class_names, ax, title):\n",
        "    cm = confusion_matrix(y_true, y_pred)\n",
        "    sns.heatmap(\n",
        "        cm, \n",
        "        annot=True, \n",
        "        square=True, \n",
        "        xticklabels=class_names, \n",
        "        yticklabels=class_names,\n",
        "        fmt='d', \n",
        "        cmap=plt.cm.Blues,\n",
        "        cbar=False,\n",
        "        ax=ax\n",
        "    )\n",
        "    ax.set_title(title, fontsize=16)\n",
        "    ax.set_xticklabels(ax.get_xticklabels(), rotation=45, ha=\"right\")\n",
        "    ax.set_ylabel('True Label', fontsize=12)\n",
        "    ax.set_xlabel('Predicted Label', fontsize=12)\n",
        "\n",
        "fig, (ax1) = plt.subplots(1, 1, figsize=(20, 10))\n",
        "\n",
        "plot_heatmap(true_classes, vgg_pred_classes_ft, class_names, ax1, title=\"Baseline model\")    \n",
        "\n",
        "fig.suptitle(\"Confusion Matrix\", fontsize=24)\n",
        "fig.tight_layout()\n",
        "fig.subplots_adjust(top=1.25)\n",
        "plt.show()"
      ],
      "metadata": {
        "colab": {
          "base_uri": "https://localhost:8080/",
          "height": 938
        },
        "id": "MXIRf4M1ADbj",
        "outputId": "d8bb84d4-9a03-4c10-fa85-e88993d1b727"
      },
      "execution_count": null,
      "outputs": [
        {
          "output_type": "display_data",
          "data": {
            "text/plain": [
              "<Figure size 1440x720 with 1 Axes>"
            ],
            "image/png": "[encoded data removed]"
          },
          "metadata": {
            "needs_background": "light"
          }
        }
      ]
    },
    {
      "cell_type": "markdown",
      "source": [
        "### TRYING INCEPTION V3"
      ],
      "metadata": {
        "id": "9OljmsnY17Sk"
      }
    },
    {
      "cell_type": "code",
      "source": [
        "import tensorflow as tf\n",
        "\n",
        "pretrained = tf.keras.applications.InceptionV3(include_top=False,\n",
        "                   input_shape=(224,224,3), weights='imagenet')\n",
        "\n",
        "pretrained.trainable=False"
      ],
      "metadata": {
        "id": "--MM8pXR1-aY"
      },
      "execution_count": null,
      "outputs": []
    },
    {
      "cell_type": "code",
      "source": [
        "inputs = tf.keras.Input(shape=(224,224,3))\n",
        "x = pretrained(inputs)\n",
        "x = tf.keras.layers.Flatten()(x)\n",
        "x = tf.keras.layers.Dense(1024)(x)\n",
        "x = tf.keras.layers.Dense(512)(x)\n",
        "outputs = tf.keras.layers.Dense(1, activation=\"sigmoid\")(x)\n",
        "\n",
        "inc = tf.keras.Model(inputs, outputs)\n",
        "\n",
        "inc.summary()\n",
        "\n",
        "\n"
      ],
      "metadata": {
        "colab": {
          "base_uri": "https://localhost:8080/"
        },
        "id": "qZdrmN3E2A4K",
        "outputId": "c472784e-af63-4021-a2b7-073a37b2ad99"
      },
      "execution_count": null,
      "outputs": [
        {
          "output_type": "stream",
          "name": "stdout",
          "text": [
            "Model: \"model\"\n",
            "_________________________________________________________________\n",
            " Layer (type)                Output Shape              Param #   \n",
            "=================================================================\n",
            " input_3 (InputLayer)        [(None, 224, 224, 3)]     0         \n",
            "                                                                 \n",
            " inception_v3 (Functional)   (None, 5, 5, 2048)        21802784  \n",
            "                                                                 \n",
            " flatten_2 (Flatten)         (None, 51200)             0         \n",
            "                                                                 \n",
            " dense_4 (Dense)             (None, 1024)              52429824  \n",
            "                                                                 \n",
            " dense_5 (Dense)             (None, 512)               524800    \n",
            "                                                                 \n",
            " dense_6 (Dense)             (None, 1)                 513       \n",
            "                                                                 \n",
            "=================================================================\n",
            "Total params: 74,757,921\n",
            "Trainable params: 52,955,137\n",
            "Non-trainable params: 21,802,784\n",
            "_________________________________________________________________\n"
          ]
        }
      ]
    },
    {
      "cell_type": "code",
      "source": [
        "inc.compile(loss=\"binary_crossentropy\",optimizer=\"rmsprop\", metrics=[\"accuracy\"])\n"
      ],
      "metadata": {
        "id": "LBPZcxsc2POt"
      },
      "execution_count": null,
      "outputs": []
    },
    {
      "cell_type": "code",
      "source": [
        "baseline_model = inc.fit( train_generator,steps_per_epoch = len(train_generator),epochs= 3 , validation_data= val_generator,\n",
        "             validation_steps = len(val_generator))"
      ],
      "metadata": {
        "colab": {
          "base_uri": "https://localhost:8080/"
        },
        "id": "c7OqP1Re2R8j",
        "outputId": "a78a1959-908c-413f-f14a-eb4bce0269e1"
      },
      "execution_count": null,
      "outputs": [
        {
          "output_type": "stream",
          "name": "stdout",
          "text": [
            "Epoch 1/3\n",
            " 6/22 [=======>......................] - ETA: 13:57 - loss: 1259.7103 - accuracy: 0.5648"
          ]
        }
      ]
    }
  ]
}